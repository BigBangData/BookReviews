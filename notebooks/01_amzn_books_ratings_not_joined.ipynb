{
 "cells": [
  {
   "cell_type": "markdown",
   "id": "9d0e9920",
   "metadata": {},
   "source": [
    "# Looking at the amzn data that did not join\n",
    "\n",
    "Making sure there wasn't any data lost because the titles weren't good enough an \"id\" to join on"
   ]
  },
  {
   "cell_type": "code",
   "execution_count": 1,
   "id": "6a3ffedf",
   "metadata": {},
   "outputs": [],
   "source": [
    "import duckdb as db\n",
    "import pandas as pd"
   ]
  },
  {
   "cell_type": "code",
   "execution_count": 2,
   "id": "595fbb1c",
   "metadata": {},
   "outputs": [],
   "source": [
    "conn = db.connect('../data/books.duckdb')\n",
    "cursor = conn.cursor()"
   ]
  },
  {
   "cell_type": "code",
   "execution_count": 3,
   "id": "bd8eb631",
   "metadata": {},
   "outputs": [
    {
     "name": "stdout",
     "output_type": "stream",
     "text": [
      "database_size : 9.7GB\n",
      "block_size : 262144\n",
      "total_blocks : 37202\n",
      "used_blocks : 37193\n",
      "free_blocks : 9\n",
      "wal_size : 0 bytes\n",
      "memory_usage : 0 bytes\n",
      "memory_limit : 13.4GB\n"
     ]
    }
   ],
   "source": [
    "q = cursor.execute('PRAGMA database_size;')\n",
    "res = q.fetchall()\n",
    "cols = ['database_size', 'block_size', 'total_blocks', 'used_blocks'\n",
    "        , 'free_blocks', 'wal_size', 'memory_usage', 'memory_limit']\n",
    "for k, v in zip(cols, res[0]):\n",
    "    print(k, ':',  v)"
   ]
  },
  {
   "cell_type": "code",
   "execution_count": 4,
   "id": "0e6434db",
   "metadata": {},
   "outputs": [
    {
     "data": {
      "text/plain": [
       "[('raw_amzn_books_data',),\n",
       " ('raw_amzn_books_rating',),\n",
       " ('stg_amzn_books_data',),\n",
       " ('stg_amzn_books_rating',),\n",
       " ('vw_amzn_books_ratings',)]"
      ]
     },
     "execution_count": 4,
     "metadata": {},
     "output_type": "execute_result"
    }
   ],
   "source": [
    "q = cursor.execute('PRAGMA show_tables;')\n",
    "res = q.fetchall()\n",
    "res"
   ]
  },
  {
   "cell_type": "code",
   "execution_count": 5,
   "id": "5a944cf7",
   "metadata": {},
   "outputs": [
    {
     "data": {
      "text/plain": [
       "('Id',\n",
       " 'Title',\n",
       " 'Price',\n",
       " 'User_id',\n",
       " 'profileName',\n",
       " 'review/helpfulness',\n",
       " 'review/score',\n",
       " 'review/time',\n",
       " 'review/summary',\n",
       " 'review/text')"
      ]
     },
     "execution_count": 5,
     "metadata": {},
     "output_type": "execute_result"
    }
   ],
   "source": [
    "q = cursor.execute(\"PRAGMA table_info('core.raw_amzn_books_rating');\")\n",
    "res = q.fetchall()\n",
    "cols = list(zip(*res))[1]\n",
    "cols"
   ]
  },
  {
   "cell_type": "code",
   "execution_count": 6,
   "id": "2f2465f5",
   "metadata": {},
   "outputs": [],
   "source": [
    "q = cursor.execute(\"SELECT * FROM core.raw_amzn_books_rating LIMIT 100;\")\n",
    "res = q.fetchall()"
   ]
  },
  {
   "cell_type": "code",
   "execution_count": 7,
   "id": "4dfedcb7",
   "metadata": {},
   "outputs": [],
   "source": [
    "df = pd.DataFrame(res, columns=list(cols))"
   ]
  },
  {
   "cell_type": "code",
   "execution_count": 8,
   "id": "aa838fdd",
   "metadata": {},
   "outputs": [
    {
     "data": {
      "text/html": [
       "<div>\n",
       "<style scoped>\n",
       "    .dataframe tbody tr th:only-of-type {\n",
       "        vertical-align: middle;\n",
       "    }\n",
       "\n",
       "    .dataframe tbody tr th {\n",
       "        vertical-align: top;\n",
       "    }\n",
       "\n",
       "    .dataframe thead th {\n",
       "        text-align: right;\n",
       "    }\n",
       "</style>\n",
       "<table border=\"1\" class=\"dataframe\">\n",
       "  <thead>\n",
       "    <tr style=\"text-align: right;\">\n",
       "      <th></th>\n",
       "      <th>Id</th>\n",
       "      <th>Title</th>\n",
       "      <th>Price</th>\n",
       "      <th>User_id</th>\n",
       "      <th>profileName</th>\n",
       "      <th>review/helpfulness</th>\n",
       "      <th>review/score</th>\n",
       "      <th>review/time</th>\n",
       "      <th>review/summary</th>\n",
       "      <th>review/text</th>\n",
       "    </tr>\n",
       "  </thead>\n",
       "  <tbody>\n",
       "    <tr>\n",
       "      <th>0</th>\n",
       "      <td>1882931173</td>\n",
       "      <td>Its Only Art If Its Well Hung!</td>\n",
       "      <td>NaN</td>\n",
       "      <td>AVCGYZL8FQQTD</td>\n",
       "      <td>Jim of Oz \"jim-of-oz\"</td>\n",
       "      <td>7/7</td>\n",
       "      <td>4.0</td>\n",
       "      <td>940636800</td>\n",
       "      <td>Nice collection of Julie Strain images</td>\n",
       "      <td>This is only for Julie Strain fans. It's a col...</td>\n",
       "    </tr>\n",
       "    <tr>\n",
       "      <th>1</th>\n",
       "      <td>0826414346</td>\n",
       "      <td>Dr. Seuss: American Icon</td>\n",
       "      <td>NaN</td>\n",
       "      <td>A30TK6U7DNS82R</td>\n",
       "      <td>Kevin Killian</td>\n",
       "      <td>10/10</td>\n",
       "      <td>5.0</td>\n",
       "      <td>1095724800</td>\n",
       "      <td>Really Enjoyed It</td>\n",
       "      <td>I don't care much for Dr. Seuss but after read...</td>\n",
       "    </tr>\n",
       "    <tr>\n",
       "      <th>2</th>\n",
       "      <td>0826414346</td>\n",
       "      <td>Dr. Seuss: American Icon</td>\n",
       "      <td>NaN</td>\n",
       "      <td>A3UH4UZ4RSVO82</td>\n",
       "      <td>John Granger</td>\n",
       "      <td>10/11</td>\n",
       "      <td>5.0</td>\n",
       "      <td>1078790400</td>\n",
       "      <td>Essential for every personal and Public Library</td>\n",
       "      <td>If people become the books they read and if \"t...</td>\n",
       "    </tr>\n",
       "  </tbody>\n",
       "</table>\n",
       "</div>"
      ],
      "text/plain": [
       "           Id                           Title  Price         User_id  \\\n",
       "0  1882931173  Its Only Art If Its Well Hung!    NaN   AVCGYZL8FQQTD   \n",
       "1  0826414346        Dr. Seuss: American Icon    NaN  A30TK6U7DNS82R   \n",
       "2  0826414346        Dr. Seuss: American Icon    NaN  A3UH4UZ4RSVO82   \n",
       "\n",
       "             profileName review/helpfulness  review/score  review/time  \\\n",
       "0  Jim of Oz \"jim-of-oz\"                7/7           4.0    940636800   \n",
       "1          Kevin Killian              10/10           5.0   1095724800   \n",
       "2           John Granger              10/11           5.0   1078790400   \n",
       "\n",
       "                                    review/summary  \\\n",
       "0           Nice collection of Julie Strain images   \n",
       "1                                Really Enjoyed It   \n",
       "2  Essential for every personal and Public Library   \n",
       "\n",
       "                                         review/text  \n",
       "0  This is only for Julie Strain fans. It's a col...  \n",
       "1  I don't care much for Dr. Seuss but after read...  \n",
       "2  If people become the books they read and if \"t...  "
      ]
     },
     "execution_count": 8,
     "metadata": {},
     "output_type": "execute_result"
    }
   ],
   "source": [
    "df.head(3)"
   ]
  },
  {
   "cell_type": "code",
   "execution_count": 9,
   "id": "5e5ae9b2",
   "metadata": {},
   "outputs": [],
   "source": [
    "q = cursor.execute(\"\"\"\n",
    "    SELECT 'raw_rating' AS tbl, COUNT(*) AS ct FROM core.raw_amzn_books_rating\n",
    "    UNION ALL\n",
    "    SELECT 'stg_rating' AS tbl, COUNT(*) AS ct FROM core.stg_amzn_books_rating\n",
    "    UNION ALL\n",
    "    SELECT 'view' AS tbl, COUNT(*) AS ct FROM core.vw_amzn_books_ratings;    \n",
    "\"\"\")\n",
    "res = q.fetchall()"
   ]
  },
  {
   "cell_type": "code",
   "execution_count": 10,
   "id": "3e8996d9",
   "metadata": {},
   "outputs": [
    {
     "data": {
      "text/plain": [
       "[('raw_rating', 3000000), ('stg_rating', 2991226), ('view', 209)]"
      ]
     },
     "execution_count": 10,
     "metadata": {},
     "output_type": "execute_result"
    }
   ],
   "source": [
    "res"
   ]
  },
  {
   "cell_type": "markdown",
   "id": "86547ea2",
   "metadata": {},
   "source": [
    "The view is currently the non-joined data!\n",
    "\n",
    "```\n",
    ", final AS (\n",
    "    SELECT\n",
    "        b.title AS data_title\n",
    "        , r.title AS rating_title\n",
    "        , b.description\n",
    "        , b.authors\n",
    "        , b.publisher\n",
    "        , b.published_date\n",
    "        , b.categories\n",
    "        , b.ratings_count\n",
    "        , r.price\n",
    "        , r.user_id\n",
    "    FROM books AS b\n",
    "        FULL OUTER JOIN ratings AS r\n",
    "            ON b.title = r.title\n",
    "    WHERE 1 = 1\n",
    "        AND b.title IS NULL\n",
    "            OR r.title IS NULL\n",
    ")\n",
    "```"
   ]
  },
  {
   "cell_type": "code",
   "execution_count": 11,
   "id": "7f82c2d5",
   "metadata": {},
   "outputs": [],
   "source": [
    "q = cursor.execute(\"PRAGMA table_info('core.vw_amzn_books_ratings');\")\n",
    "res = q.fetchall()\n",
    "cols = list(zip(*res))[1]"
   ]
  },
  {
   "cell_type": "code",
   "execution_count": 12,
   "id": "1fb89a27",
   "metadata": {},
   "outputs": [],
   "source": [
    "q = cursor.execute(\"\"\"SELECT * FROM core.vw_amzn_books_ratings;\"\"\")\n",
    "res = q.fetchall()\n",
    "df = pd.DataFrame(res, columns=list(cols))\n",
    "\n",
    "# [13] saved a csv below to inspect - deleted cell"
   ]
  },
  {
   "cell_type": "code",
   "execution_count": 14,
   "id": "51d9dbc5",
   "metadata": {},
   "outputs": [
    {
     "data": {
      "text/html": [
       "<div>\n",
       "<style scoped>\n",
       "    .dataframe tbody tr th:only-of-type {\n",
       "        vertical-align: middle;\n",
       "    }\n",
       "\n",
       "    .dataframe tbody tr th {\n",
       "        vertical-align: top;\n",
       "    }\n",
       "\n",
       "    .dataframe thead th {\n",
       "        text-align: right;\n",
       "    }\n",
       "</style>\n",
       "<table border=\"1\" class=\"dataframe\">\n",
       "  <thead>\n",
       "    <tr style=\"text-align: right;\">\n",
       "      <th></th>\n",
       "      <th>data_title</th>\n",
       "      <th>rating_title</th>\n",
       "      <th>description</th>\n",
       "      <th>authors</th>\n",
       "      <th>publisher</th>\n",
       "      <th>published_date</th>\n",
       "      <th>categories</th>\n",
       "      <th>ratings_count</th>\n",
       "      <th>price</th>\n",
       "      <th>user_id</th>\n",
       "    </tr>\n",
       "  </thead>\n",
       "  <tbody>\n",
       "    <tr>\n",
       "      <th>0</th>\n",
       "      <td>None</td>\n",
       "      <td>None</td>\n",
       "      <td>None</td>\n",
       "      <td>['Maharshi Ramana']</td>\n",
       "      <td>None</td>\n",
       "      <td>2015-12-15</td>\n",
       "      <td>None</td>\n",
       "      <td>1.0</td>\n",
       "      <td>NaN</td>\n",
       "      <td>None</td>\n",
       "    </tr>\n",
       "    <tr>\n",
       "      <th>1</th>\n",
       "      <td>None</td>\n",
       "      <td>None</td>\n",
       "      <td>None</td>\n",
       "      <td>None</td>\n",
       "      <td>None</td>\n",
       "      <td>None</td>\n",
       "      <td>None</td>\n",
       "      <td>NaN</td>\n",
       "      <td>NaN</td>\n",
       "      <td>A1M4HZYXTDAXY4</td>\n",
       "    </tr>\n",
       "    <tr>\n",
       "      <th>2</th>\n",
       "      <td>None</td>\n",
       "      <td>None</td>\n",
       "      <td>None</td>\n",
       "      <td>None</td>\n",
       "      <td>None</td>\n",
       "      <td>None</td>\n",
       "      <td>None</td>\n",
       "      <td>NaN</td>\n",
       "      <td>NaN</td>\n",
       "      <td>A2GQVG6F92CG72</td>\n",
       "    </tr>\n",
       "    <tr>\n",
       "      <th>3</th>\n",
       "      <td>None</td>\n",
       "      <td>None</td>\n",
       "      <td>None</td>\n",
       "      <td>None</td>\n",
       "      <td>None</td>\n",
       "      <td>None</td>\n",
       "      <td>None</td>\n",
       "      <td>NaN</td>\n",
       "      <td>NaN</td>\n",
       "      <td>A3B2Y8Q0Y5G2PE</td>\n",
       "    </tr>\n",
       "    <tr>\n",
       "      <th>4</th>\n",
       "      <td>None</td>\n",
       "      <td>None</td>\n",
       "      <td>None</td>\n",
       "      <td>None</td>\n",
       "      <td>None</td>\n",
       "      <td>None</td>\n",
       "      <td>None</td>\n",
       "      <td>NaN</td>\n",
       "      <td>NaN</td>\n",
       "      <td>A3A4CO8WPZ62E6</td>\n",
       "    </tr>\n",
       "    <tr>\n",
       "      <th>...</th>\n",
       "      <td>...</td>\n",
       "      <td>...</td>\n",
       "      <td>...</td>\n",
       "      <td>...</td>\n",
       "      <td>...</td>\n",
       "      <td>...</td>\n",
       "      <td>...</td>\n",
       "      <td>...</td>\n",
       "      <td>...</td>\n",
       "      <td>...</td>\n",
       "    </tr>\n",
       "    <tr>\n",
       "      <th>204</th>\n",
       "      <td>None</td>\n",
       "      <td>None</td>\n",
       "      <td>None</td>\n",
       "      <td>None</td>\n",
       "      <td>None</td>\n",
       "      <td>None</td>\n",
       "      <td>None</td>\n",
       "      <td>NaN</td>\n",
       "      <td>NaN</td>\n",
       "      <td>A37FFWZUGO8L7W</td>\n",
       "    </tr>\n",
       "    <tr>\n",
       "      <th>205</th>\n",
       "      <td>None</td>\n",
       "      <td>None</td>\n",
       "      <td>None</td>\n",
       "      <td>None</td>\n",
       "      <td>None</td>\n",
       "      <td>None</td>\n",
       "      <td>None</td>\n",
       "      <td>NaN</td>\n",
       "      <td>NaN</td>\n",
       "      <td>A1HDQHHA1AAK6O</td>\n",
       "    </tr>\n",
       "    <tr>\n",
       "      <th>206</th>\n",
       "      <td>None</td>\n",
       "      <td>None</td>\n",
       "      <td>None</td>\n",
       "      <td>None</td>\n",
       "      <td>None</td>\n",
       "      <td>None</td>\n",
       "      <td>None</td>\n",
       "      <td>NaN</td>\n",
       "      <td>NaN</td>\n",
       "      <td>A1VXG4DELT37C</td>\n",
       "    </tr>\n",
       "    <tr>\n",
       "      <th>207</th>\n",
       "      <td>None</td>\n",
       "      <td>None</td>\n",
       "      <td>None</td>\n",
       "      <td>None</td>\n",
       "      <td>None</td>\n",
       "      <td>None</td>\n",
       "      <td>None</td>\n",
       "      <td>NaN</td>\n",
       "      <td>NaN</td>\n",
       "      <td>A2TMUDWHQGS7K3</td>\n",
       "    </tr>\n",
       "    <tr>\n",
       "      <th>208</th>\n",
       "      <td>None</td>\n",
       "      <td>None</td>\n",
       "      <td>None</td>\n",
       "      <td>None</td>\n",
       "      <td>None</td>\n",
       "      <td>None</td>\n",
       "      <td>None</td>\n",
       "      <td>NaN</td>\n",
       "      <td>NaN</td>\n",
       "      <td>A3SKQ7YTUTDOP1</td>\n",
       "    </tr>\n",
       "  </tbody>\n",
       "</table>\n",
       "<p>209 rows × 10 columns</p>\n",
       "</div>"
      ],
      "text/plain": [
       "    data_title rating_title description              authors publisher  \\\n",
       "0         None         None        None  ['Maharshi Ramana']      None   \n",
       "1         None         None        None                 None      None   \n",
       "2         None         None        None                 None      None   \n",
       "3         None         None        None                 None      None   \n",
       "4         None         None        None                 None      None   \n",
       "..         ...          ...         ...                  ...       ...   \n",
       "204       None         None        None                 None      None   \n",
       "205       None         None        None                 None      None   \n",
       "206       None         None        None                 None      None   \n",
       "207       None         None        None                 None      None   \n",
       "208       None         None        None                 None      None   \n",
       "\n",
       "    published_date categories  ratings_count  price         user_id  \n",
       "0       2015-12-15       None            1.0    NaN            None  \n",
       "1             None       None            NaN    NaN  A1M4HZYXTDAXY4  \n",
       "2             None       None            NaN    NaN  A2GQVG6F92CG72  \n",
       "3             None       None            NaN    NaN  A3B2Y8Q0Y5G2PE  \n",
       "4             None       None            NaN    NaN  A3A4CO8WPZ62E6  \n",
       "..             ...        ...            ...    ...             ...  \n",
       "204           None       None            NaN    NaN  A37FFWZUGO8L7W  \n",
       "205           None       None            NaN    NaN  A1HDQHHA1AAK6O  \n",
       "206           None       None            NaN    NaN   A1VXG4DELT37C  \n",
       "207           None       None            NaN    NaN  A2TMUDWHQGS7K3  \n",
       "208           None       None            NaN    NaN  A3SKQ7YTUTDOP1  \n",
       "\n",
       "[209 rows x 10 columns]"
      ]
     },
     "execution_count": 14,
     "metadata": {},
     "output_type": "execute_result"
    }
   ],
   "source": [
    "df"
   ]
  },
  {
   "cell_type": "markdown",
   "id": "097e12de",
   "metadata": {},
   "source": [
    "Basically the non-joined data is garbage, it didn't join because it's just `user_id` and mostly nothing else, some rows are even entirelly null.\n",
    "\n",
    "This means we can safely ignore these 209 rows and just rely on the inner join as is.\n",
    "\n",
    "Future checks will be to make sure the data isn't too scarce, look at nulls, etc."
   ]
  },
  {
   "cell_type": "code",
   "execution_count": 15,
   "id": "f11e31e4",
   "metadata": {},
   "outputs": [],
   "source": [
    "conn.close()"
   ]
  },
  {
   "cell_type": "markdown",
   "id": "8ac646d6",
   "metadata": {},
   "source": [
    "---"
   ]
  }
 ],
 "metadata": {
  "kernelspec": {
   "display_name": "Python 3 (ipykernel)",
   "language": "python",
   "name": "python3"
  },
  "language_info": {
   "codemirror_mode": {
    "name": "ipython",
    "version": 3
   },
   "file_extension": ".py",
   "mimetype": "text/x-python",
   "name": "python",
   "nbconvert_exporter": "python",
   "pygments_lexer": "ipython3",
   "version": "3.10.6"
  }
 },
 "nbformat": 4,
 "nbformat_minor": 5
}
